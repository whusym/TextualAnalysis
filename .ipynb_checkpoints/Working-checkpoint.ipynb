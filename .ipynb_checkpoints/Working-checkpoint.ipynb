{
 "cells": [
  {
   "cell_type": "markdown",
   "metadata": {},
   "source": [
    "## TODO\n",
    "- Try to clean up the code\n",
    "- Write the final report"
   ]
  },
  {
   "cell_type": "code",
   "execution_count": 1,
   "metadata": {
    "collapsed": true
   },
   "outputs": [],
   "source": [
    "from sklearn import feature_extraction\n",
    "import numpy as np\n",
    "import nltk\n",
    "import pandas as pd\n",
    "import re\n",
    "import matplotlib.pyplot as plt\n",
    "# %matplotlib inline"
   ]
  },
  {
   "cell_type": "code",
   "execution_count": 25,
   "metadata": {
    "collapsed": true
   },
   "outputs": [],
   "source": [
    "# Some Global Variables\n",
    "NUM_WORDS = 80   # show how many highly frequent words in the plots\n",
    "MORE_SW = False # Whether we want more stop words\n",
    "NUM_CLUSTERS = 6"
   ]
  },
  {
   "cell_type": "code",
   "execution_count": 128,
   "metadata": {
    "collapsed": true
   },
   "outputs": [],
   "source": [
    "with open('three_dialogues.txt', 'r') as myfile:\n",
    "    h = myfile.read()"
   ]
  },
  {
   "cell_type": "code",
   "execution_count": 3,
   "metadata": {
    "collapsed": false
   },
   "outputs": [],
   "source": [
    "#Adding more stopwords. I need an aggressive way of stopwords.\n",
    "# nltk.download('stopwords')  Not necessary if you have done it once\n",
    "from nltk.corpus import stopwords\n",
    "stop_words = list(set(stopwords.words('english')))\n",
    "stop_words.append('\\'s')   #manually add 's into the stop word list (because it's annoying!)\n",
    "\n",
    "if MORE_SW:   #if we want to add more stop words and render a more aggressive stopword list\n",
    "    with open('stopwords', 'r') as myfile:\n",
    "        sw = [i.strip().split(' ') for i in myfile]\n",
    "    sw1 = [val.lower() for sublist in sw for val in sublist]\n",
    "    stop_words.extend(sw1)\n",
    "    stop_words = set(stop_words)\n"
   ]
  },
  {
   "cell_type": "code",
   "execution_count": 129,
   "metadata": {
    "collapsed": false
   },
   "outputs": [],
   "source": [
    "def tokenize(text):\n",
    "    tokens = [word for sent in nltk.sent_tokenize(text) for word in nltk.word_tokenize(sent)]\n",
    "    filtered_tokens = []\n",
    "    for token in tokens:\n",
    "        if re.search('[a-zA-Z]', token):  #only search English words and put them into tokens\n",
    "            filtered_tokens.append(token.lower())\n",
    "    return (filtered_tokens)\n",
    "#     stems = [stemmer.stem(t) for t in tokens]\n",
    "#     return stems   # it turns out that stemming may not be a good choice...\n",
    "# h_tokens = tokenize(h)\n",
    "    "
   ]
  },
  {
   "cell_type": "code",
   "execution_count": 5,
   "metadata": {
    "collapsed": false
   },
   "outputs": [],
   "source": [
    "def word_count(text):\n",
    "    chunk_dict = {}\n",
    "    for i in text:\n",
    "        i = str(i).lower() # we only need lower-case of an item in the word_chunk list.\n",
    "        if i not in stop_words:\n",
    "            if chunk_dict.get(i) is None:     # we don't need the stopwords\n",
    "                chunk_dict[i] = 1     \n",
    "            else:\n",
    "                chunk_dict[i] += 1\n",
    "\n",
    "    chunk_dict = sorted(chunk_dict.items(), key=lambda k_v: k_v[1], reverse=True)\n",
    "    return chunk_dict\n",
    "\n",
    "# TD_count = word_count(h_tokens)"
   ]
  },
  {
   "cell_type": "code",
   "execution_count": 6,
   "metadata": {
    "collapsed": false
   },
   "outputs": [],
   "source": [
    "def plot_wc(wc_list, author_name):\n",
    "    '''\n",
    "    Plot the first NUM of words word count list, with the author name\n",
    "    '''\n",
    "    wc_plot = dict(wc_list[0:NUM_WORDS])\n",
    "    plt.figure(num=None, figsize=(96,64), dpi=80, facecolor='w', edgecolor='k')\n",
    "    plt.bar(range(len(wc_plot)), sorted(wc_plot.values(), reverse=True), align='center')\n",
    "    plt.xticks(range(len(wc_plot)), wc_plot.keys(), fontsize = 64, rotation=85)\n",
    "    plt.yticks(fontsize= 72)\n",
    "    plt.xlabel('Words', fontsize=78)\n",
    "    plt.ylabel('Occurances', fontsize=78)\n",
    "#     plt.rcParams[\"figure.figsize\"] = (32,24)\n",
    "    plt.figtext(.5,.8,'Top ' + str(NUM) + ' Words of ' + author_name, fontsize=96,ha='center')\n",
    "#     plt.show()   # if we want to show the plot\n",
    "    plt.savefig(author_name + 'keywords', dpi=100)\n",
    "    plt.close()   # To save memory"
   ]
  },
  {
   "cell_type": "code",
   "execution_count": 7,
   "metadata": {
    "collapsed": false
   },
   "outputs": [],
   "source": [
    "def kw_plot(text):\n",
    "    with open(text, 'r') as file:\n",
    "        t = file.read()\n",
    "    author = (str(text)[:-4])\n",
    "    t_tokens = tokenize(t)\n",
    "    t_count = word_count(t_tokens)\n",
    "    t_plot = plot_wc(t_count, author)\n",
    "    return t_plot"
   ]
  },
  {
   "cell_type": "code",
   "execution_count": 8,
   "metadata": {
    "collapsed": false
   },
   "outputs": [],
   "source": [
    "text_files = ['Bentham.txt', 'Berkeley.txt','Hobbes.txt','Hume.txt','Locke.txt', 'Mill.txt', 'Sidgwick.txt']\n",
    "for f in text_files:\n",
    "    kw_plot(f)"
   ]
  },
  {
   "cell_type": "code",
   "execution_count": 141,
   "metadata": {
    "collapsed": false
   },
   "outputs": [
    {
     "name": "stdout",
     "output_type": "stream",
     "text": [
      "15\n"
     ]
    }
   ],
   "source": [
    "book_list = ['hobbes-leviathan', 'hobbes-liberty', 'hobbes-elements', 'hobbes-law', 'mill-liberty', 'mill-util',\n",
    "             'locke-understanding', 'locke-treatise', 'hume-treatise', 'hume-morals',\n",
    "            'hume-enquiry', 'berkeley-TOK', 'berkeley-TD',\n",
    "             'bentham-POM', 'bentham-FOG']\n",
    "book_str_list = []\n",
    "for b in book_list:\n",
    "    with open(b, 'r') as myfile:\n",
    "        book_file = myfile.read()\n",
    "    book_str_list.append(book_file)\n",
    "print (len(book_str_list))\n"
   ]
  },
  {
   "cell_type": "code",
   "execution_count": 249,
   "metadata": {
    "collapsed": false
   },
   "outputs": [
    {
     "name": "stdout",
     "output_type": "stream",
     "text": [
      "CPU times: user 23.3 s, sys: 602 ms, total: 23.9 s\n",
      "Wall time: 24.5 s\n",
      "(15, 51461)\n"
     ]
    }
   ],
   "source": [
    "from sklearn.feature_extraction.text import TfidfVectorizer\n",
    "\n",
    "# totalvocab_tokenized = []\n",
    "# for i in book_str_list:\n",
    "#     allwords_tokenized = tokenize(i)\n",
    "#     totalvocab_tokenized.extend(allwords_tokenized)\n",
    "#define vectorizer parameters\n",
    "tfidf_vectorizer = TfidfVectorizer(max_df=0.9, max_features=1000000,\n",
    "                                 min_df=0.1, stop_words='english',\n",
    "                                 use_idf=True, tokenizer=tokenize, ngram_range=(1,2))\n",
    "\n",
    "%time tfidf_matrix = tfidf_vectorizer.fit_transform(book_str_list) \n",
    "print(tfidf_matrix.shape)"
   ]
  },
  {
   "cell_type": "code",
   "execution_count": 250,
   "metadata": {
    "collapsed": false
   },
   "outputs": [
    {
     "name": "stdout",
     "output_type": "stream",
     "text": [
      "51461\n"
     ]
    }
   ],
   "source": [
    "terms = tfidf_vectorizer.get_feature_names()\n",
    "print (len(terms))\n",
    "# print (terms[0:120])"
   ]
  },
  {
   "cell_type": "code",
   "execution_count": 251,
   "metadata": {
    "collapsed": false
   },
   "outputs": [],
   "source": [
    "from sklearn.metrics.pairwise import cosine_similarity\n",
    "dist = 1 - cosine_similarity(tfidf_matrix)\n",
    "# print (dist)\n",
    "# dist_1 = 1 - cosine_similarity(tfidf_matrix.T)\n",
    "# print (dist_1.shape)"
   ]
  },
  {
   "cell_type": "code",
   "execution_count": 260,
   "metadata": {
    "collapsed": false
   },
   "outputs": [
    {
     "name": "stdout",
     "output_type": "stream",
     "text": [
      "CPU times: user 12.8 s, sys: 183 ms, total: 13 s\n",
      "Wall time: 7.06 s\n",
      "[3, 4, 2, 3, 1, 1, 0, 3, 5, 5, 5, 0, 0, 1, 1]\n"
     ]
    }
   ],
   "source": [
    "from sklearn.cluster import KMeans\n",
    "\n",
    "\n",
    "\n",
    "km = KMeans(n_clusters=NUM_CLUSTERS, n_init = 30, verbose = 0)\n",
    "\n",
    "%time km.fit(tfidf_matrix)\n",
    "\n",
    "clusters = km.labels_.tolist()\n",
    "print (clusters)\n",
    "\n"
   ]
  },
  {
   "cell_type": "code",
   "execution_count": 261,
   "metadata": {
    "collapsed": false
   },
   "outputs": [],
   "source": [
    "authors = {'book_title': book_list, \"content\": book_str_list, \"cluster\":clusters}\n",
    "frame = pd.DataFrame(authors, index = [clusters], columns = ['book_title', 'content', 'cluster'])\n",
    "# print (frame)"
   ]
  },
  {
   "cell_type": "code",
   "execution_count": 254,
   "metadata": {
    "collapsed": false
   },
   "outputs": [],
   "source": [
    "authors = {'book_title': book_list, \"content\": book_str_list, \"cluster\":clusters}\n",
    "frame = pd.DataFrame(authors, index = [clusters], columns = ['book_title', 'content', 'cluster'])\n",
    "# print (frame)"
   ]
  },
  {
   "cell_type": "code",
   "execution_count": 255,
   "metadata": {
    "collapsed": false
   },
   "outputs": [],
   "source": [
    "# print (frame)\n",
    "# frame['clusters'].value_counts()\n",
    "# grouped = frame['book_title'].groupby(frame['clusters']) #groupby cluster for aggregation purposes\n",
    "\n",
    "# grouped.mean() #average rank (1 to 100) per cluster"
   ]
  },
  {
   "cell_type": "code",
   "execution_count": 262,
   "metadata": {
    "collapsed": false
   },
   "outputs": [
    {
     "name": "stdout",
     "output_type": "stream",
     "text": [
      "there are 1628749 items in vocab_frame\n"
     ]
    }
   ],
   "source": [
    "vocab_frame = pd.DataFrame({'words': totalvocab_tokenized}, index = totalvocab_tokenized)\n",
    "print ('there are ' + str(vocab_frame.shape[0]) + ' items in vocab_frame')\n",
    "# print (vocab_frame[0:100])"
   ]
  },
  {
   "cell_type": "code",
   "execution_count": 350,
   "metadata": {
    "collapsed": false
   },
   "outputs": [
    {
     "name": "stdout",
     "output_type": "stream",
     "text": [
      "Top terms per cluster:\n",
      "\n",
      "(6, 51461)\n",
      "(6, 51461)\n",
      "[[20581 34160 20333 ..., 28890 28891     0]\n",
      " [43252 19265 18511 ..., 27187 27188 22828]\n",
      " [ 3632  5118 10040 ..., 32444 32443     0]\n",
      " [19418 43683  1336 ..., 29017 29018     0]\n",
      " [25594 19418 13523 ..., 33849 33848     0]\n",
      " [20333 20581 42061 ..., 28314 28322     0]]\n",
      "Cluster 0 words: ideas, idea, exist, motion, existence, perceived, substance, extension, hath, sensible, bodies, exist, simple, complex,\n",
      "\n",
      "Cluster 1 words: society, happiness, government, utilitarian, moral, offences, conduct, utility, public, duty, punishment, social, character, morality, offence,\n",
      "\n",
      "Cluster 2 words: b, c, d, f, e, g, strait, h, b, motion, c, k, angle, arch, b,\n",
      "\n",
      "Cluster 3 words: hath, sovereign, government, covenant, commonwealth, children, father, dominion, king, law, war, civil, unto,\n",
      "\n",
      "Cluster 4 words: lordship, hath, election, causes, necessitated, sin, maketh, prayer, lord, lordship, deliberation, thou, god, good, spontaneous,\n",
      "\n",
      "Cluster 5 words: idea, ideas, sentiment, society, passions, reasoning, causes, sentiments, entirely, moral, passion, philosophy, editions, relations, reasonings,\n",
      "\n",
      "\n",
      "\n"
     ]
    }
   ],
   "source": [
    "print(\"Top terms per cluster:\")\n",
    "print()\n",
    "#sort cluster centers by proximity to centroid\n",
    "from collections import defaultdict\n",
    "order_centroids = km.cluster_centers_.argsort()[:, ::-1] \n",
    "print (km.cluster_centers_.shape)\n",
    "print ((order_centroids.shape))\n",
    "print ((order_centroids[0:100]))\n",
    "cluster_colors = {0: '#1b9e77', 1: '#ffff00', 2: '#7570b3', 3: '#e7298a', 4: '#66a61e', 5:'#000000'}\n",
    "cluster_dict = defaultdict(list)\n",
    "for i in range(NUM_CLUSTERS):\n",
    "    print(\"Cluster %d words:\" % i, end='')\n",
    "    \n",
    "    for ind in order_centroids[i, :15]: #replace 60 with n words per cluster\n",
    "        if str(vocab_frame.ix[terms[ind].split(' ')].values.tolist()[0][0]) != 'nan': #get rid of extra 'nan' words\n",
    "            print(' %s' % vocab_frame.ix[terms[ind].split(' ')].values.tolist()[0][0], end=',')        \n",
    "            cluster_dict[i].append(vocab_frame.ix[terms[ind].split(' ')].values.tolist()[0][0]) \n",
    "    print() #add whitespace\n",
    "    print() #add whitespace\n",
    "    \n",
    "print()\n",
    "print()"
   ]
  },
  {
   "cell_type": "code",
   "execution_count": 351,
   "metadata": {
    "collapsed": false
   },
   "outputs": [
    {
     "name": "stdout",
     "output_type": "stream",
     "text": [
      "\n",
      "\n"
     ]
    },
    {
     "data": {
      "image/png": "[encoded data removed]",
      "text/plain": [
       "<matplotlib.figure.Figure at 0x1a2f356fd0>"
      ]
     },
     "metadata": {},
     "output_type": "display_data"
    }
   ],
   "source": [
    "import os  # for os.path.basename\n",
    "\n",
    "import matplotlib.pyplot as plt\n",
    "import matplotlib as mpl\n",
    "\n",
    "from sklearn.manifold import MDS\n",
    "\n",
    "MDS()\n",
    "\n",
    "# convert two components as we're plotting points in a two-dimensional plane\n",
    "# \"precomputed\" because we provide a distance matrix\n",
    "# we will also specify `random_state` so the plot is reproducible.\n",
    "mds = MDS(n_components=2, dissimilarity=\"precomputed\", random_state=1)\n",
    "\n",
    "pos = mds.fit_transform(dist)  # shape (n_components, n_samples)\n",
    "\n",
    "xs, ys = pos[:, 0], pos[:, 1]\n",
    "print()\n",
    "print()\n",
    "#create data frame that has the result of the MDS plus the cluster numbers and titles\n",
    "df = pd.DataFrame(dict(x=xs, y=ys, label=clusters, title=book_list)) \n",
    "# print (df)\n",
    "#group by cluster\n",
    "groups = df.groupby('label')\n",
    "# print (df)\n",
    "\n",
    "%matplotlib inline\n",
    "\n",
    "# set up plot\n",
    "fig, ax = plt.subplots(figsize=(17, 9)) # set size\n",
    "ax.margins(0.05) # Optional, just adds 5% padding to the autoscaling\n",
    "\n",
    "#iterate through groups to layer the plot\n",
    "#note that I use the cluster_name and cluster_color dicts with the 'name' lookup to return the appropriate color/label\n",
    "for name, group in groups:\n",
    "    ax.plot(group.x, group.y, marker='o', linestyle='', ms=12, \n",
    "            label=cluster_dict[name], color=cluster_colors[name], \n",
    "            mec='none')\n",
    "    ax.set_aspect('auto')\n",
    "    \n",
    "ax.legend(numpoints=1, loc = 8, bbox_to_anchor=(0.1, -0.25), borderaxespad=0., mode = 'expand')  #show legend with only 1 point\n",
    "\n",
    "#add label in x,y position with the label as the book title\n",
    "for i in range(len(df)):\n",
    "    ax.text(df.ix[i]['x'], df.ix[i]['y'], df.ix[i]['title'], size=10)  \n",
    "\n",
    "plt.show() #show the plot"
   ]
  },
  {
   "cell_type": "code",
   "execution_count": 301,
   "metadata": {
    "collapsed": false,
    "scrolled": false
   },
   "outputs": [
    {
     "name": "stdout",
     "output_type": "stream",
     "text": [
      "(14, 4)\n"
     ]
    },
    {
     "data": {
      "image/png": "[encoded data removed]",
      "text/plain": [
       "<matplotlib.figure.Figure at 0x1a2f6ac7b8>"
      ]
     },
     "metadata": {},
     "output_type": "display_data"
    }
   ],
   "source": [
    "from scipy.cluster.hierarchy import ward, dendrogram\n",
    "import matplotlib\n",
    "%matplotlib inline\n",
    "linkage_matrix = ward(dist) #define the linkage_matrix using ward clustering pre-computed distances\n",
    "print (linkage_matrix.shape) \n",
    "fig, ax = plt.subplots(figsize=(15, 20)) # set size\n",
    "ax = dendrogram(linkage_matrix, orientation=\"right\", labels=book_list, leaf_font_size = 24);\n",
    "\n",
    "# plt.tick_params(\\\n",
    "#     axis= 'x',          # changes apply to the x-axis\n",
    "#     which='both',      # both major and minor ticks are affected\n",
    "#     bottom='off',      # ticks along the bottom edge are off\n",
    "#     top='off',         # ticks along the top edge are off\n",
    "#     labelbottom='off')\n",
    "\n",
    "matplotlib.rcParams['lines.linewidth'] = 6\n",
    "# plt.tight_layout() #show plot with tight layout\n",
    "plt.show()\n",
    "#uncomment below to save figure\n",
    "# plt.savefig('ward_clusters.png', dpi=200) #save figure as ward_clusters"
   ]
  },
  {
   "cell_type": "code",
   "execution_count": 124,
   "metadata": {
    "collapsed": false
   },
   "outputs": [
    {
     "data": {
      "text/plain": [
       "(15, 28622)"
      ]
     },
     "execution_count": 124,
     "metadata": {},
     "output_type": "execute_result"
    }
   ],
   "source": [
    "from sklearn.feature_extraction.text import CountVectorizer\n",
    "count_vect = CountVectorizer(tokenizer=tokenize, lowercase=False)\n",
    "train_counts = count_vect.fit_transform(book_str_list)\n",
    "train_counts.shape"
   ]
  },
  {
   "cell_type": "code",
   "execution_count": 125,
   "metadata": {
    "collapsed": false
   },
   "outputs": [
    {
     "name": "stdout",
     "output_type": "stream",
     "text": [
      "(15, 28622)\n"
     ]
    }
   ],
   "source": [
    "# count_vect.vocabulary_.get(u'philosophy')\n",
    "from sklearn.feature_extraction.text import TfidfTransformer\n",
    "tfidf_transformer = TfidfTransformer()\n",
    "train_tf = tfidf_transformer.fit_transform(train_counts)\n",
    "# tfidf_vectorizer = TfidfVectorizer(max_df=0.9, max_features=1000000,\n",
    "#                                  min_df=0.1, stop_words='english',\n",
    "#                                  use_idf=True, tokenizer=tokenize, ngram_range=(1,2), lowercase = False)\n",
    "# tfidf_tf = tfidf_vectorizer.fit_transform(book_str_list) \n",
    "print (train_tf.shape)\n"
   ]
  },
  {
   "cell_type": "code",
   "execution_count": 126,
   "metadata": {
    "collapsed": false
   },
   "outputs": [
    {
     "name": "stdout",
     "output_type": "stream",
     "text": [
      "MultinomialNB(alpha=1.0, class_prior=None, fit_prior=True)\n"
     ]
    }
   ],
   "source": [
    "from sklearn.naive_bayes import MultinomialNB\n",
    "clf = MultinomialNB().fit(train_counts, clusters)\n",
    "\n",
    "# clf = MultinomialNB().fit(tfidf_matrix, clusters)\n",
    "print (clf)"
   ]
  },
  {
   "cell_type": "code",
   "execution_count": 127,
   "metadata": {
    "collapsed": false
   },
   "outputs": [
    {
     "name": "stdout",
     "output_type": "stream",
     "text": [
      "1130120 88697\n",
      "[3 0]\n",
      "[0, 5, 4, 0, 3, 3, 2, 0, 1, 1, 1, 2, 2, 3, 3] \n",
      "             book_title                                            content  \\\n",
      "0     hobbes-leviathan  \\nThomas Hobbes. Leviathan\\n ISBN: 978-1-57085...   \n",
      "5       hobbes-liberty  \\nThomas Hobbes. Of Liberty and Necessity\\n , ...   \n",
      "4      hobbes-elements  \\nThomas Hobbes. Elements of Philosophy\\nISBN:...   \n",
      "0           hobbes-law  \\nThomas Hobbes. The Elements of Law\\nISBN: 97...   \n",
      "3         mill-liberty  John Stuart Mill. On Liberty\\n                ...   \n",
      "3            mill-util  John Stuart Mill. Utilitarianism\\n  ,   UTILIT...   \n",
      "2  locke-understanding  \\nJohn Locke. An Essay concerning Human Unders...   \n",
      "0       locke-treatise  John Locke. Two Treatises of Government\\n  ,  ...   \n",
      "1        hume-treatise  David Hume. A Treatise of Human Nature\\n  ,\\n ...   \n",
      "1          hume-morals  David Hume. An Enquiry Concerning the Principl...   \n",
      "1         hume-enquiry  \\nDavid Hume. An Enquiry Concerning Human Unde...   \n",
      "2         berkeley-TOK  Bishop George Berkeley. The Principles of Huma...   \n",
      "2          berkeley-TD  \\nBishop George Berkeley. Three Dialogues betw...   \n",
      "3          bentham-POM  \\nJeremy Bentham. An Introduction to the Princ...   \n",
      "3          bentham-FOG  \\n\\n\\n\\nJeremy Bentham. A Fragment on Governme...   \n",
      "\n",
      "   cluster  \n",
      "0        0  \n",
      "5        5  \n",
      "4        4  \n",
      "0        0  \n",
      "3        3  \n",
      "3        3  \n",
      "2        2  \n",
      "0        0  \n",
      "1        1  \n",
      "1        1  \n",
      "1        1  \n",
      "2        2  \n",
      "2        2  \n",
      "3        3  \n",
      "3        3  \n"
     ]
    }
   ],
   "source": [
    "with open('sidgwick.txt', 'r') as myfile:\n",
    "    sidgwick = myfile.read()\n",
    "with open('machiavelli.txt', 'r') as myfile:\n",
    "    mach = myfile.read()\n",
    "\n",
    "print (len(sidgwick), len(mach))\n",
    "docs_new = [tokenize(sidgwick), tokenize(mach)]\n",
    "\n",
    "# print (docs_new)\n",
    "doc_new_counts = count_vect.transform([sidgwick, mach])\n",
    "doc_new_tfidf = tfidf_transformer.transform(doc_new_counts)\n",
    "# doc_new_tfidf = tfidf_vectorizer.fit_transform(docs_new) \n",
    "# print (doc_new_tfidf)\n",
    "predicted = clf.predict(doc_new_tfidf)\n",
    "print (predicted)\n",
    "print (clusters, \"\\n\", frame)\n"
   ]
  },
  {
   "cell_type": "code",
   "execution_count": 133,
   "metadata": {
    "collapsed": false
   },
   "outputs": [
    {
     "name": "stdout",
     "output_type": "stream",
     "text": [
      "CPU times: user 7.74 s, sys: 95.4 ms, total: 7.83 s\n",
      "Wall time: 4.11 s\n",
      "[0, 4, 3, 0, 5, 5, 1, 0, 1, 1, 1, 1, 2, 5, 5]\n",
      "            book_title                                            content  \\\n",
      "0     hobbes-leviathan  \\nThomas Hobbes. Leviathan\\n ISBN: 978-1-57085...   \n",
      "5       hobbes-liberty  \\nThomas Hobbes. Of Liberty and Necessity\\n , ...   \n",
      "4      hobbes-elements  \\nThomas Hobbes. Elements of Philosophy\\nISBN:...   \n",
      "0           hobbes-law  \\nThomas Hobbes. The Elements of Law\\nISBN: 97...   \n",
      "3         mill-liberty  John Stuart Mill. On Liberty\\n                ...   \n",
      "3            mill-util  John Stuart Mill. Utilitarianism\\n  ,   UTILIT...   \n",
      "2  locke-understanding  \\nJohn Locke. An Essay concerning Human Unders...   \n",
      "0       locke-treatise  John Locke. Two Treatises of Government\\n  ,  ...   \n",
      "1        hume-treatise  David Hume. A Treatise of Human Nature\\n  ,\\n ...   \n",
      "1          hume-morals  David Hume. An Enquiry Concerning the Principl...   \n",
      "1         hume-enquiry  \\nDavid Hume. An Enquiry Concerning Human Unde...   \n",
      "2         berkeley-TOK  Bishop George Berkeley. The Principles of Huma...   \n",
      "2          berkeley-TD  \\nBishop George Berkeley. Three Dialogues betw...   \n",
      "3          bentham-POM  \\nJeremy Bentham. An Introduction to the Princ...   \n",
      "3          bentham-FOG  \\n\\n\\n\\nJeremy Bentham. A Fragment on Governme...   \n",
      "\n",
      "   cluster  \n",
      "0        0  \n",
      "5        5  \n",
      "4        4  \n",
      "0        0  \n",
      "3        3  \n",
      "3        3  \n",
      "2        2  \n",
      "0        0  \n",
      "1        1  \n",
      "1        1  \n",
      "1        1  \n",
      "2        2  \n",
      "2        2  \n",
      "3        3  \n",
      "3        3  \n"
     ]
    }
   ],
   "source": [
    "from sklearn.cluster import KMeans\n",
    "\n",
    "\n",
    "\n",
    "km = KMeans(n_clusters=NUM_CLUSTERS, n_init = 30, verbose = 0)\n",
    "\n",
    "%time km.fit(train_tf)\n",
    "\n",
    "clusters_new = km.labels_.tolist()\n",
    "print (clusters_new)\n",
    "print (frame)\n"
   ]
  },
  {
   "cell_type": "code",
   "execution_count": 134,
   "metadata": {
    "collapsed": false
   },
   "outputs": [
    {
     "data": {
      "text/plain": [
       "array([5, 0], dtype=int32)"
      ]
     },
     "execution_count": 134,
     "metadata": {},
     "output_type": "execute_result"
    }
   ],
   "source": [
    "km.predict(doc_new_tfidf)"
   ]
  },
  {
   "cell_type": "code",
   "execution_count": 100,
   "metadata": {
    "collapsed": false
   },
   "outputs": [
    {
     "name": "stdout",
     "output_type": "stream",
     "text": [
      "1130120 88697\n",
      "[3 0]\n",
      "[0, 5, 4, 0, 3, 3, 2, 0, 1, 1, 1, 2, 2, 3, 3] \n",
      "             book_title                                            content  \\\n",
      "0     hobbes-leviathan  \\nThomas Hobbes. Leviathan\\n ISBN: 978-1-57085...   \n",
      "5       hobbes-liberty  \\nThomas Hobbes. Of Liberty and Necessity\\n , ...   \n",
      "4      hobbes-elements  \\nThomas Hobbes. Elements of Philosophy\\nISBN:...   \n",
      "0           hobbes-law  \\nThomas Hobbes. The Elements of Law\\nISBN: 97...   \n",
      "3         mill-liberty  John Stuart Mill. On Liberty\\n                ...   \n",
      "3            mill-util  John Stuart Mill. Utilitarianism\\n  ,   UTILIT...   \n",
      "2  locke-understanding  \\nJohn Locke. An Essay concerning Human Unders...   \n",
      "0       locke-treatise  John Locke. Two Treatises of Government\\n  ,  ...   \n",
      "1        hume-treatise  David Hume. A Treatise of Human Nature\\n  ,\\n ...   \n",
      "1          hume-morals  David Hume. An Enquiry Concerning the Principl...   \n",
      "1         hume-enquiry  \\nDavid Hume. An Enquiry Concerning Human Unde...   \n",
      "2         berkeley-TOK  Bishop George Berkeley. The Principles of Huma...   \n",
      "2          berkeley-TD  \\nBishop George Berkeley. Three Dialogues betw...   \n",
      "3          bentham-POM  \\nJeremy Bentham. An Introduction to the Princ...   \n",
      "3          bentham-FOG  \\n\\n\\n\\nJeremy Bentham. A Fragment on Governme...   \n",
      "\n",
      "   cluster  \n",
      "0        0  \n",
      "5        5  \n",
      "4        4  \n",
      "0        0  \n",
      "3        3  \n",
      "3        3  \n",
      "2        2  \n",
      "0        0  \n",
      "1        1  \n",
      "1        1  \n",
      "1        1  \n",
      "2        2  \n",
      "2        2  \n",
      "3        3  \n",
      "3        3  \n"
     ]
    }
   ],
   "source": [
    "with open('sidgwick.txt', 'r') as myfile:\n",
    "    sidgwick = myfile.read()\n",
    "with open('machiavelli.txt', 'r') as myfile:\n",
    "    mach = myfile.read()\n",
    "\n",
    "print (len(sidgwick), len(mach))\n",
    "docs_new = [tokenize(sidgwick), tokenize(mach)]\n",
    "\n",
    "# print (docs_new)\n",
    "doc_new_counts = count_vect.transform([sidgwick, mach])\n",
    "doc_new_tfidf = tfidf_transformer.transform(doc_new_counts)\n",
    "# print (doc_new_tfidf)\n",
    "predicted = clf.predict(doc_new_tfidf)\n",
    "print (predicted)\n",
    "print (clusters, \"\\n\", frame)"
   ]
  },
  {
   "cell_type": "code",
   "execution_count": 236,
   "metadata": {
    "collapsed": false
   },
   "outputs": [
    {
     "ename": "NameError",
     "evalue": "name 'order_centroids' is not defined",
     "output_type": "error",
     "traceback": [
      "\u001b[0;31m---------------------------------------------------------------------------\u001b[0m",
      "\u001b[0;31mNameError\u001b[0m                                 Traceback (most recent call last)",
      "\u001b[0;32m<ipython-input-236-9ab9cd80fd17>\u001b[0m in \u001b[0;36m<module>\u001b[0;34m()\u001b[0m\n\u001b[1;32m      1\u001b[0m \u001b[0;32mfrom\u001b[0m \u001b[0msklearn\u001b[0m\u001b[0;34m.\u001b[0m\u001b[0mdecomposition\u001b[0m \u001b[0;32mimport\u001b[0m \u001b[0mPCA\u001b[0m\u001b[0;34m\u001b[0m\u001b[0m\n\u001b[1;32m      2\u001b[0m \u001b[0mpca\u001b[0m \u001b[0;34m=\u001b[0m \u001b[0mPCA\u001b[0m\u001b[0;34m(\u001b[0m\u001b[0mn_components\u001b[0m\u001b[0;34m=\u001b[0m\u001b[0;36m2\u001b[0m\u001b[0;34m)\u001b[0m\u001b[0;34m\u001b[0m\u001b[0m\n\u001b[0;32m----> 3\u001b[0;31m \u001b[0mcenter_words\u001b[0m \u001b[0;34m=\u001b[0m \u001b[0morder_centroids\u001b[0m\u001b[0;34m[\u001b[0m\u001b[0;36m0\u001b[0m\u001b[0;34m:\u001b[0m\u001b[0;36m300\u001b[0m\u001b[0;34m]\u001b[0m\u001b[0;34m\u001b[0m\u001b[0m\n\u001b[0m\u001b[1;32m      4\u001b[0m \u001b[0mpca_new\u001b[0m \u001b[0;34m=\u001b[0m \u001b[0mpca\u001b[0m\u001b[0;34m.\u001b[0m\u001b[0mfit\u001b[0m\u001b[0;34m(\u001b[0m\u001b[0mcenter_words\u001b[0m\u001b[0;34m)\u001b[0m\u001b[0;34m\u001b[0m\u001b[0m\n\u001b[1;32m      5\u001b[0m \u001b[0mprint\u001b[0m\u001b[0;34m(\u001b[0m\u001b[0mpca_new\u001b[0m\u001b[0;34m.\u001b[0m\u001b[0mcomponents_\u001b[0m\u001b[0;34m.\u001b[0m\u001b[0mshape\u001b[0m\u001b[0;34m)\u001b[0m\u001b[0;34m\u001b[0m\u001b[0m\n",
      "\u001b[0;31mNameError\u001b[0m: name 'order_centroids' is not defined"
     ]
    }
   ],
   "source": [
    "from sklearn.decomposition import PCA\n",
    "pca = PCA(n_components=2)\n",
    "center_words = order_centroids[0:300]\n",
    "pca_new = pca.fit(center_words)\n",
    "print(pca_new.components_.shape)\n",
    "# print(pca.explained_variance_)\n",
    "# pca_new = pca.inverse_transform(pca_fit)\n",
    "plt.scatter(center_words[:, 0], center_words[:, 1], alpha = 0.2)\n",
    "plt.scatter(pca_new[:, 0], pca_new[:, 1], alpha =0.8)\n",
    "plt.xlabel('component 1')\n",
    "plt.ylabel('component 2')\n",
    "plt.colorbar();\n",
    "plt.axis('equal');"
   ]
  },
  {
   "cell_type": "code",
   "execution_count": 146,
   "metadata": {
    "collapsed": false
   },
   "outputs": [
    {
     "name": "stdout",
     "output_type": "stream",
     "text": [
      "CPU times: user 1min 29s, sys: 720 ms, total: 1min 30s\n",
      "Wall time: 1min 31s\n"
     ]
    }
   ],
   "source": [
    "from gensim import corpora, models, similarities\n",
    "from nltk.tag import pos_tag\n",
    "\n",
    "# new_book_list = book_str_list.append(tokenize(sidgwick))\n",
    "# new_book_list = book_str_list.append(tokenize(mach))\n",
    "def strip_propper(text):\n",
    "    tagged = pos_tag(text.split())\n",
    "    non_pnouns = [word for word,pos in tagged if pos != 'NNP' and pos != 'NNPS']\n",
    "    return non_pnouns\n",
    "\n",
    "preprocess = [strip_propper(doc) for doc in book_str_list]\n"
   ]
  },
  {
   "cell_type": "code",
   "execution_count": 233,
   "metadata": {
    "collapsed": false
   },
   "outputs": [
    {
     "name": "stdout",
     "output_type": "stream",
     "text": [
      "CPU times: user 4.34 s, sys: 75 ms, total: 4.42 s\n",
      "Wall time: 4.86 s\n",
      "CPU times: user 2.82 s, sys: 33.7 ms, total: 2.86 s\n",
      "Wall time: 2.9 s\n"
     ]
    }
   ],
   "source": [
    "def tag_tokenize(text):\n",
    "#     tokens = [nltk.word_tokenize(word) for word in text]\n",
    "    filtered_tokens = []\n",
    "    for token in text:\n",
    "        if re.search('[a-zA-Z]', token):  #only search English words and put them into tokens\n",
    "            token = re.sub(\"[^a-zA-Z]\", \"\", token)\n",
    "#             token = token.replace(\".\", \"\")\n",
    "#             token = token.replace(\":\", \"\")\n",
    "#             token = token.replace(\"?\", \"\")\n",
    "#             token = token.replace(\";\", \"\")\n",
    "#             token = token.replace(\"\", \"\")\n",
    "#             token.replace('[^a-zA-Z]', '', regex=True, inplace=True)\n",
    "            filtered_tokens.append(token.lower())\n",
    "    return (filtered_tokens)\n",
    "\n",
    "%time tokenized_text = [tag_tokenize(text) for text in preprocess]\n",
    "# for i in tokenized_text:\n",
    "#     for j in i:\n",
    "#         if not j[-1].isalpha():\n",
    "#             j.replace(j[-1],'')\n",
    "%time texts = [[word for word in text if word not in stop_words] for text in tokenized_text]"
   ]
  },
  {
   "cell_type": "code",
   "execution_count": 346,
   "metadata": {
    "collapsed": false
   },
   "outputs": [],
   "source": [
    "# print (tokenized_text[0])"
   ]
  },
  {
   "cell_type": "code",
   "execution_count": 311,
   "metadata": {
    "collapsed": false
   },
   "outputs": [
    {
     "name": "stdout",
     "output_type": "stream",
     "text": [
      "CPU times: user 10min 1s, sys: 9.05 s, total: 10min 10s\n",
      "Wall time: 6min 46s\n"
     ]
    }
   ],
   "source": [
    "dictionary = corpora.Dictionary(texts)\n",
    "dictionary.filter_extremes(no_below = 1, no_above = 0.9)\n",
    "corpus = [dictionary.doc2bow(text) for text in texts]\n",
    "log = []\n",
    "%time lda = models.LdaModel(corpus, num_topics=6,id2word=dictionary,update_every=6,chunksize=10000,passes=100, callbacks=log)"
   ]
  },
  {
   "cell_type": "code",
   "execution_count": 318,
   "metadata": {
    "collapsed": false
   },
   "outputs": [
    {
     "name": "stdout",
     "output_type": "stream",
     "text": [
      "LdaModel(num_terms=21628, num_topics=6, decay=0.5, chunksize=10000)\n"
     ]
    }
   ],
   "source": []
  },
  {
   "cell_type": "code",
   "execution_count": 348,
   "metadata": {
    "collapsed": false
   },
   "outputs": [],
   "source": [
    "# lda.show_topics()"
   ]
  },
  {
   "cell_type": "code",
   "execution_count": 337,
   "metadata": {
    "collapsed": false
   },
   "outputs": [
    {
     "name": "stdout",
     "output_type": "stream",
     "text": [
      "[ 7.07106781  7.07106781]\n",
      "[ 0.13663399  0.16956678]\n"
     ]
    }
   ],
   "source": [
    "## https://gist.github.com/tokestermw/3588e6fbbb2f03f89798\n",
    "from sklearn.feature_extraction import DictVectorizer\n",
    "n_topics = 6\n",
    "def topics_to_vectorspace(n_topics, n_words=50):\n",
    "    rows = []\n",
    "    for i in range(n_topics):\n",
    "        temp = lda.show_topic(i, n_words)\n",
    "        row = dict(((i[1],i[0]) for i in temp))\n",
    "        rows.append(row)\n",
    "\n",
    "    return rows    \n",
    "\n",
    "vec = DictVectorizer()\n",
    "\n",
    "X_vec = vec.fit_transform(topics_to_vectorspace(n_topics))\n",
    "X_vec.shape\n",
    "# (40, 2457)\n",
    "\n",
    "## PCA\n",
    "from sklearn.decomposition import TruncatedSVD\n",
    "\n",
    "svd = TruncatedSVD(n_components=2)\n",
    "\n",
    "X_pca = svd.fit_transform(X_vec)\n",
    "# print (X_pca)\n",
    "print(svd.singular_values_)  \n",
    "print(svd.explained_variance_ratio_)\n",
    "# plt.figure()\n",
    "# for i in range(X_pca.shape[0]):\n",
    "#     plt.scatter(X_pca[i, 0], X_pca[i, 1], alpha=.5)\n",
    "#     plt.text(X_pca[i, 0], X_pca[i, 1], s=' ' + str(i))    \n",
    "\n",
    "# plt.title('PCA Topics ')\n",
    "# plt.savefig(\"pca_topic\")\n",
    "\n",
    "# plt.close()\n"
   ]
  },
  {
   "cell_type": "code",
   "execution_count": 313,
   "metadata": {
    "collapsed": false
   },
   "outputs": [
    {
     "name": "stdout",
     "output_type": "stream",
     "text": [
      "(1, [('motion', 0.025276113766752213), ('strait', 0.017918643469677309), ('angle', 0.012004929931068149), ('moved', 0.011917545808248282), ('lines', 0.010920957536476808), ('bodies', 0.0092443608126385156), ('arch', 0.0084811333500085882), ('seeing', 0.0071164484988795037), ('air', 0.0069593892310129621), ('centre', 0.006929592887864453), ('water', 0.0062947222877420949), ('parallel', 0.0062673976007247079), ('circle', 0.0059469896045377616), ('impetus', 0.005830473413971915), ('superficies', 0.0054518096443658534), ('namely', 0.0052900163129621109), ('quantity', 0.0051866252708828607), ('proportions', 0.0047993356011183713), ('angles', 0.0045887789416946415), ('magnitude', 0.0044226869133774582)])\n",
      "['government', 'society', 'children', 'father', 'dominion', 'hath', 'title', 'supreme', 'p', 'legislative', 'heir', 'obedience', 'war', 'king', 'paternal', 'parents', 'political', 'fathers', 'duty', 'plain']\n",
      "\n",
      "['motion', 'strait', 'angle', 'moved', 'lines', 'bodies', 'arch', 'seeing', 'air', 'centre', 'water', 'parallel', 'circle', 'impetus', 'superficies', 'namely', 'quantity', 'proportions', 'angles', 'magnitude']\n",
      "\n",
      "['ideas', 'idea', 'motion', 'existence', 'complex', 'bodies', 'exist', 'substances', 'substance', 'sensible', 'perceived', 'hath', 'propositions', 'extension', 'wherein', 'innate', 'space', 'duration', 'sort', 'signification']\n",
      "\n",
      "['hath', 'sovereign', 'commonwealth', 'civil', 'kingdom', 'king', 'unto', 'covenant', 'government', 'war', 'honour', 'peace', 'subjects', 'amongst', 'public', 'assembly', 'whereof', 'seeing', 'saith', 'private']\n",
      "\n",
      "['offences', 'punishment', 'happiness', 'motive', 'moral', 'offence', 'pleasures', 'trust', 'conduct', 'however', 'utility', 'public', 'motives', 'mischief', 'condition', 'view', 'sort', 'society', 'social', 'wrongful']\n",
      "\n",
      "['idea', 'ideas', 'passions', 'causes', 'passion', 'existence', 'reasoning', 'impression', 'entirely', 'betwixt', 'impressions', 'society', 'relations', 'sentiments', 'interest', 'philosophy', 'pride', 'perceptions', 'arises', 'sentiment']\n",
      "\n"
     ]
    }
   ],
   "source": [
    "topics_matrix = lda.show_topics(formatted=False, num_words=20)\n",
    "print (topics_matrix[1])\n",
    "# topics_matrix = np.array(topics_matrix)\n",
    "topic_words = []\n",
    "# topic_words = topics_matrix[:,:,1]\n",
    "for i,j in topics_matrix:\n",
    "    topic_words.append([])\n",
    "    for k,l in j:\n",
    "        topic_words[i].append(str(k))\n",
    "\n",
    "for i in topic_words:\n",
    "    print (i)\n",
    "    print ()"
   ]
  },
  {
   "cell_type": "code",
   "execution_count": 344,
   "metadata": {
    "collapsed": false,
    "scrolled": true
   },
   "outputs": [
    {
     "ename": "ImportError",
     "evalue": "No module named 'WordCloud'",
     "output_type": "error",
     "traceback": [
      "\u001b[0;31m---------------------------------------------------------------------------\u001b[0m",
      "\u001b[0;31mImportError\u001b[0m                               Traceback (most recent call last)",
      "\u001b[0;32m<ipython-input-344-1c849282c13b>\u001b[0m in \u001b[0;36m<module>\u001b[0;34m()\u001b[0m\n\u001b[0;32m----> 1\u001b[0;31m \u001b[0;32mimport\u001b[0m \u001b[0mWordCloud\u001b[0m\u001b[0;34m\u001b[0m\u001b[0m\n\u001b[0m\u001b[1;32m      2\u001b[0m \u001b[0;32mimport\u001b[0m \u001b[0mmatplotlib\u001b[0m\u001b[0;34m.\u001b[0m\u001b[0mpyplot\u001b[0m \u001b[0;32mas\u001b[0m \u001b[0mplt\u001b[0m\u001b[0;34m\u001b[0m\u001b[0m\n\u001b[1;32m      3\u001b[0m \u001b[0;32mfor\u001b[0m \u001b[0mt\u001b[0m \u001b[0;32min\u001b[0m \u001b[0mrange\u001b[0m\u001b[0;34m(\u001b[0m\u001b[0mlda\u001b[0m\u001b[0;34m.\u001b[0m\u001b[0mnum_topics\u001b[0m\u001b[0;34m)\u001b[0m\u001b[0;34m:\u001b[0m\u001b[0;34m\u001b[0m\u001b[0m\n\u001b[1;32m      4\u001b[0m     \u001b[0mplt\u001b[0m\u001b[0;34m.\u001b[0m\u001b[0mfigure\u001b[0m\u001b[0;34m(\u001b[0m\u001b[0;34m)\u001b[0m\u001b[0;34m\u001b[0m\u001b[0m\n\u001b[1;32m      5\u001b[0m     \u001b[0mplt\u001b[0m\u001b[0;34m.\u001b[0m\u001b[0mimshow\u001b[0m\u001b[0;34m(\u001b[0m\u001b[0mWordCloud\u001b[0m\u001b[0;34m(\u001b[0m\u001b[0;34m)\u001b[0m\u001b[0;34m.\u001b[0m\u001b[0mfit_words\u001b[0m\u001b[0;34m(\u001b[0m\u001b[0mlda\u001b[0m\u001b[0;34m.\u001b[0m\u001b[0mshow_topic\u001b[0m\u001b[0;34m(\u001b[0m\u001b[0mt\u001b[0m\u001b[0;34m,\u001b[0m \u001b[0;36m200\u001b[0m\u001b[0;34m)\u001b[0m\u001b[0;34m)\u001b[0m\u001b[0;34m)\u001b[0m\u001b[0;34m\u001b[0m\u001b[0m\n",
      "\u001b[0;31mImportError\u001b[0m: No module named 'WordCloud'"
     ]
    }
   ],
   "source": [
    "import WordCloud\n",
    "import matplotlib.pyplot as plt\n",
    "for t in range(lda.num_topics):\n",
    "    plt.figure()\n",
    "    plt.imshow(WordCloud().fit_words(lda.show_topic(t, 200)))\n",
    "    plt.axis(\"off\")\n",
    "    plt.title(\"Topic #\" + str(t))\n",
    "    plt.show()"
   ]
  },
  {
   "cell_type": "code",
   "execution_count": 352,
   "metadata": {
    "collapsed": false
   },
   "outputs": [
    {
     "ename": "ImportError",
     "evalue": "No module named 'WordCloud'",
     "output_type": "error",
     "traceback": [
      "\u001b[0;31m---------------------------------------------------------------------------\u001b[0m",
      "\u001b[0;31mImportError\u001b[0m                               Traceback (most recent call last)",
      "\u001b[0;32m<ipython-input-352-d309c30fad76>\u001b[0m in \u001b[0;36m<module>\u001b[0;34m()\u001b[0m\n\u001b[0;32m----> 1\u001b[0;31m \u001b[0;32mimport\u001b[0m \u001b[0mWordCloud\u001b[0m\u001b[0;34m\u001b[0m\u001b[0m\n\u001b[0m",
      "\u001b[0;31mImportError\u001b[0m: No module named 'WordCloud'"
     ]
    }
   ],
   "source": [
    "import WordCloud\n"
   ]
  },
  {
   "cell_type": "code",
   "execution_count": 340,
   "metadata": {
    "collapsed": false
   },
   "outputs": [],
   "source": [
    "## No Module Available. Don't worry!\n",
    "\n",
    "import pyLDAvis.gensim\n",
    "# import gensim\n",
    "pyLDAvis.enable_notebook()\n",
    "# d = gensim.corpora.Dictionary.load('dictionary.dict')\n",
    "# c = gensim.corpora.MmCorpus('corpus.mm')\n",
    "# lda = gensim.models.LdaModel.load('topic.model')\n",
    "\n",
    "# data = pyLDAvis.gensim.prepare(lda, corpus, dictionary)\n",
    "# data"
   ]
  },
  {
   "cell_type": "code",
   "execution_count": 361,
   "metadata": {
    "collapsed": false
   },
   "outputs": [
    {
     "name": "stdout",
     "output_type": "stream",
     "text": [
      "0.0916063225075866\n",
      "0.1193787331104226\n",
      "0.04923330807167407\n",
      "0.09305255023608514\n",
      "0.1127552823981026\n",
      "0.136672844393457\n",
      "0.1061240167458633\n",
      "0.12826865533706802\n",
      "0.09418604165365312\n",
      "0.11971143200036063\n",
      "0.10110420265840367\n",
      "0.09523258314480026\n",
      "0.09119480915699521\n",
      "0.08331069489043821\n",
      "0.10383568045787814\n"
     ]
    }
   ],
   "source": [
    "from textblob import TextBlob\n",
    "for book in book_str_list:\n",
    "    book_blob = TextBlob(book)\n",
    "    print (book_blob.sentiment.polarity)"
   ]
  },
  {
   "cell_type": "markdown",
   "metadata": {},
   "source": [
    "## Appendix\n",
    "* Here is the appendix\n",
    " - Stopwords"
   ]
  },
  {
   "cell_type": "code",
   "execution_count": null,
   "metadata": {
    "collapsed": false
   },
   "outputs": [],
   "source": [
    "print (stop_words)"
   ]
  },
  {
   "cell_type": "code",
   "execution_count": 27,
   "metadata": {
    "collapsed": false
   },
   "outputs": [],
   "source": [
    "# put different files together. Only Ran it once. It's good now.\n",
    "with open('new_file.txt', 'w') as outfile:\n",
    "    for fname in text_files:\n",
    "        with open(fname) as infile:\n",
    "            for line in infile:\n",
    "                outfile.write(line)"
   ]
  },
  {
   "cell_type": "code",
   "execution_count": null,
   "metadata": {
    "collapsed": true
   },
   "outputs": [],
   "source": [
    "#Helper Function to get rid of all the copyright info.\n",
    "\n",
    "import os, fnmatch\n",
    "def findReplace(directory, find, replace, filePattern):\n",
    "    for path, dirs, files in os.walk(os.path.abspath(directory)):\n",
    "        for filename in fnmatch.filter(files, filePattern):\n",
    "            filepath = os.path.join(path, filename)\n",
    "            with open(filepath) as f:\n",
    "                s = f.read()\n",
    "            s = s.replace(find, replace)\n",
    "            with open(filepath, \"w\") as f:\n",
    "                f.write(s)\n",
    "findReplace(\"./\", \"ISBN: 978-1-57085-256-5 Charlottesville, Virginia, USA: InteLex Corporation, 2000\", \" \", \"*.txt\")"
   ]
  }
 ],
 "metadata": {
  "kernelspec": {
   "display_name": "Python 3",
   "language": "python",
   "name": "python3"
  },
  "language_info": {
   "codemirror_mode": {
    "name": "ipython",
    "version": 3
   },
   "file_extension": ".py",
   "mimetype": "text/x-python",
   "name": "python",
   "nbconvert_exporter": "python",
   "pygments_lexer": "ipython3",
   "version": "3.5.2"
  }
 },
 "nbformat": 4,
 "nbformat_minor": 2
}
